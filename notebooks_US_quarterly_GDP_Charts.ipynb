{
  "metadata": {
    "language_info": {
      "codemirror_mode": {
        "name": "python",
        "version": 3
      },
      "file_extension": ".py",
      "mimetype": "text/x-python",
      "name": "python",
      "nbconvert_exporter": "python",
      "pygments_lexer": "ipython3",
      "version": "3.8"
    },
    "kernelspec": {
      "name": "python",
      "display_name": "Python (Pyodide)",
      "language": "python"
    }
  },
  "nbformat_minor": 4,
  "nbformat": 4,
  "cells": [
    {
      "cell_type": "markdown",
      "source": "# US GDP Quarterly Data\n## Data collected from 2021 Q1 to 2023 Q1",
      "metadata": {}
    },
    {
      "cell_type": "markdown",
      "source": "### Chart 1: Total GDP from Government vs. Private Sectors",
      "metadata": {}
    },
    {
      "cell_type": "markdown",
      "source": "![Image](https://github.com/evannguyen/jupyter_notebooks/blob/main/Gross_GDP_2021Q1_2023Q1_Gov_vs_Priv.png)",
      "metadata": {}
    },
    {
      "cell_type": "markdown",
      "source": "### Chart 2: GDP at the States vs. Federal Level",
      "metadata": {}
    },
    {
      "cell_type": "markdown",
      "source": "![Image](https://github.com/evannguyen/jupyter_notebooks/blob/main/Gross_GDP_2021Q1_2023Q1_State_vs_Fed.png)",
      "metadata": {}
    },
    {
      "cell_type": "markdown",
      "source": "### Chart 3: GDP Private Industry Sectors Comparison",
      "metadata": {}
    },
    {
      "cell_type": "markdown",
      "source": "![Image](https://github.com/evannguyen/jupyter_notebooks/blob/main/Gross_GDP_2021Q1_2023Q1_Private_Industries.png)",
      "metadata": {}
    },
    {
      "cell_type": "markdown",
      "source": "#### Author: Evan Nguyen\nJuly 22, 2023\nCitation: U.S. Bureau of Economic Analysis, [\"Gross Output by Industry\"](https://apps.bea.gov/iTable/?reqid=150&step=2&isuri=1&categories=gdpxind#eyJhcHBpZCI6MTUwLCJzdGVwcyI6WzEsMiwzXSwiZGF0YSI6W1siY2F0ZWdvcmllcyIsIkdkcHhJbmQiXSxbIlRhYmxlX0xpc3QiLCIxNSJdXX0=) (accessed Saturday, July 22, 2023).",
      "metadata": {}
    },
    {
      "cell_type": "code",
      "source": "",
      "metadata": {},
      "execution_count": null,
      "outputs": []
    }
  ]
}