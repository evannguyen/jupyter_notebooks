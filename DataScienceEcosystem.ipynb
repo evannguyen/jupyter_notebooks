{
 "cells": [
  {
   "cell_type": "markdown",
   "id": "5dbf4f6f",
   "metadata": {},
   "source": [
    "# Data Science Tools and Ecosystem"
   ]
  },
  {
   "cell_type": "markdown",
   "id": "bfc3ed8a",
   "metadata": {},
   "source": [
    "In this notebook, Data Science Tools and Ecosystem are summarized."
   ]
  },
  {
   "cell_type": "markdown",
   "id": "90135c88",
   "metadata": {},
   "source": [
    "** Objectives: **\n",
    "* Identify programming languages used for data analytics\n",
    "* Identify open source platforms used for data anayltics\n",
    "* Learn basic R coding\n",
    "* Learn basic Python coding\n",
    "* Learn to use platforms such as Jupyter and Github"
   ]
  },
  {
   "cell_type": "markdown",
   "id": "9fac640c",
   "metadata": {},
   "source": [
    "Some of the popular languages that Data Scientists use are:\n",
    "1. Python\n",
    "2. SQL\n",
    "3. R"
   ]
  },
  {
   "cell_type": "markdown",
   "id": "782c2a14",
   "metadata": {},
   "source": [
    "Some of the commonly used libraries used by Data Scientists include:\n",
    "    * TensorFlow\n",
    "    * NumPy\n",
    "    * Pandas"
   ]
  },
  {
   "cell_type": "markdown",
   "id": "03972bc4",
   "metadata": {},
   "source": [
    "| Data Science Tools |\n",
    "-------------------------------\n",
    "| Jupyter |\n",
    "| R Studio |\n",
    "| GitHub |"
   ]
  },
  {
   "cell_type": "markdown",
   "id": "2fbbe905",
   "metadata": {},
   "source": [
    "### Below are a few examples of evaluating arithmetic expressions in Python"
   ]
  },
  {
   "cell_type": "code",
   "execution_count": 2,
   "id": "919d7b18",
   "metadata": {},
   "outputs": [
    {
     "name": "stdout",
     "output_type": "stream",
     "text": [
      "This a simple arithmetic expression to mutiply then add integers\n",
      "17\n"
     ]
    }
   ],
   "source": [
    "x = (3*4)+5\n",
    "\n",
    "print (\"This a simple arithmetic expression to mutiply then add integers\")\n",
    "print (x)"
   ]
  },
  {
   "cell_type": "code",
   "execution_count": 3,
   "id": "91119382",
   "metadata": {},
   "outputs": [
    {
     "name": "stdout",
     "output_type": "stream",
     "text": [
      "This will convert 200 minutes to hours by diving by 60\n",
      "3.3333333333333335\n"
     ]
    }
   ],
   "source": [
    "y = 200/60\n",
    "\n",
    "print (\"This will convert 200 minutes to hours by diving by 60\")\n",
    "print (y)"
   ]
  },
  {
   "cell_type": "markdown",
   "id": "67cbe888",
   "metadata": {},
   "source": [
    "## Author\n",
    "Evan Nguyen"
   ]
  }
 ],
 "metadata": {
  "kernelspec": {
   "display_name": "Python 3 (ipykernel)",
   "language": "python",
   "name": "python3"
  },
  "language_info": {
   "codemirror_mode": {
    "name": "ipython",
    "version": 3
   },
   "file_extension": ".py",
   "mimetype": "text/x-python",
   "name": "python",
   "nbconvert_exporter": "python",
   "pygments_lexer": "ipython3",
   "version": "3.11.4"
  }
 },
 "nbformat": 4,
 "nbformat_minor": 5
}
